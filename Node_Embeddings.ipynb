{
  "cells": [
    {
      "cell_type": "code",
      "execution_count": 1,
      "metadata": {
        "id": "xOVIUFt7w-uQ"
      },
      "outputs": [
        {
          "name": "stdout",
          "output_type": "stream",
          "text": [
            "Requirement already satisfied: torch_geometric in c:\\users\\mudla\\appdata\\local\\programs\\python\\python312\\lib\\site-packages (2.5.2)\n",
            "Requirement already satisfied: tqdm in c:\\users\\mudla\\appdata\\local\\programs\\python\\python312\\lib\\site-packages (from torch_geometric) (4.66.2)\n",
            "Requirement already satisfied: numpy in c:\\users\\mudla\\appdata\\local\\programs\\python\\python312\\lib\\site-packages (from torch_geometric) (1.26.4)\n",
            "Requirement already satisfied: scipy in c:\\users\\mudla\\appdata\\local\\programs\\python\\python312\\lib\\site-packages (from torch_geometric) (1.12.0)\n",
            "Requirement already satisfied: fsspec in c:\\users\\mudla\\appdata\\local\\programs\\python\\python312\\lib\\site-packages (from torch_geometric) (2024.3.1)\n",
            "Requirement already satisfied: jinja2 in c:\\users\\mudla\\appdata\\local\\programs\\python\\python312\\lib\\site-packages (from torch_geometric) (3.1.3)\n",
            "Requirement already satisfied: aiohttp in c:\\users\\mudla\\appdata\\local\\programs\\python\\python312\\lib\\site-packages (from torch_geometric) (3.9.4)\n",
            "Requirement already satisfied: requests in c:\\users\\mudla\\appdata\\local\\programs\\python\\python312\\lib\\site-packages (from torch_geometric) (2.31.0)\n",
            "Requirement already satisfied: pyparsing in c:\\users\\mudla\\appdata\\local\\programs\\python\\python312\\lib\\site-packages (from torch_geometric) (3.1.2)\n",
            "Requirement already satisfied: scikit-learn in c:\\users\\mudla\\appdata\\local\\programs\\python\\python312\\lib\\site-packages (from torch_geometric) (1.4.1.post1)\n",
            "Requirement already satisfied: psutil>=5.8.0 in c:\\users\\mudla\\appdata\\local\\programs\\python\\python312\\lib\\site-packages (from torch_geometric) (5.9.8)\n",
            "Requirement already satisfied: aiosignal>=1.1.2 in c:\\users\\mudla\\appdata\\local\\programs\\python\\python312\\lib\\site-packages (from aiohttp->torch_geometric) (1.3.1)\n",
            "Requirement already satisfied: attrs>=17.3.0 in c:\\users\\mudla\\appdata\\local\\programs\\python\\python312\\lib\\site-packages (from aiohttp->torch_geometric) (23.2.0)\n",
            "Requirement already satisfied: frozenlist>=1.1.1 in c:\\users\\mudla\\appdata\\local\\programs\\python\\python312\\lib\\site-packages (from aiohttp->torch_geometric) (1.4.1)\n",
            "Requirement already satisfied: multidict<7.0,>=4.5 in c:\\users\\mudla\\appdata\\local\\programs\\python\\python312\\lib\\site-packages (from aiohttp->torch_geometric) (6.0.5)\n",
            "Requirement already satisfied: yarl<2.0,>=1.0 in c:\\users\\mudla\\appdata\\local\\programs\\python\\python312\\lib\\site-packages (from aiohttp->torch_geometric) (1.9.4)\n",
            "Requirement already satisfied: MarkupSafe>=2.0 in c:\\users\\mudla\\appdata\\local\\programs\\python\\python312\\lib\\site-packages (from jinja2->torch_geometric) (2.1.5)\n",
            "Requirement already satisfied: charset-normalizer<4,>=2 in c:\\users\\mudla\\appdata\\local\\programs\\python\\python312\\lib\\site-packages (from requests->torch_geometric) (3.3.2)\n",
            "Requirement already satisfied: idna<4,>=2.5 in c:\\users\\mudla\\appdata\\local\\programs\\python\\python312\\lib\\site-packages (from requests->torch_geometric) (3.6)\n",
            "Requirement already satisfied: urllib3<3,>=1.21.1 in c:\\users\\mudla\\appdata\\local\\programs\\python\\python312\\lib\\site-packages (from requests->torch_geometric) (2.2.1)\n",
            "Requirement already satisfied: certifi>=2017.4.17 in c:\\users\\mudla\\appdata\\local\\programs\\python\\python312\\lib\\site-packages (from requests->torch_geometric) (2024.2.2)\n",
            "Requirement already satisfied: joblib>=1.2.0 in c:\\users\\mudla\\appdata\\local\\programs\\python\\python312\\lib\\site-packages (from scikit-learn->torch_geometric) (1.3.2)\n",
            "Requirement already satisfied: threadpoolctl>=2.0.0 in c:\\users\\mudla\\appdata\\local\\programs\\python\\python312\\lib\\site-packages (from scikit-learn->torch_geometric) (3.4.0)\n",
            "Requirement already satisfied: colorama in c:\\users\\mudla\\appdata\\local\\programs\\python\\python312\\lib\\site-packages (from tqdm->torch_geometric) (0.4.6)\n"
          ]
        }
      ],
      "source": [
        "!pip install torch_geometric"
      ]
    },
    {
      "cell_type": "code",
      "execution_count": 2,
      "metadata": {
        "id": "gofYekKlwuRB"
      },
      "outputs": [],
      "source": [
        "import torch\n",
        "import torch.nn.functional as F\n",
        "from torch_geometric.data import Data, DataLoader\n",
        "from torch_geometric.nn import GATConv"
      ]
    },
    {
      "cell_type": "code",
      "execution_count": 3,
      "metadata": {
        "id": "ACAK6ctIw5ts"
      },
      "outputs": [],
      "source": [
        "import pandas as pd\n",
        "node_info = pd.read_csv('node_info_sorted.csv')\n",
        "edge_info = pd.read_csv('edge_info_sorted.csv')"
      ]
    },
    {
      "cell_type": "code",
      "execution_count": 4,
      "metadata": {
        "id": "yyrfqB5Yxr__"
      },
      "outputs": [],
      "source": [
        "title_to_idx = {title: idx for idx, title in enumerate(node_info['name'].unique())}"
      ]
    },
    {
      "cell_type": "code",
      "execution_count": 5,
      "metadata": {
        "id": "4oL-GVlRx3Sz"
      },
      "outputs": [],
      "source": [
        "edges = edge_info[['source_name', 'target_name']].values\n",
        "sources = [title_to_idx[source] for source, _ in edges]\n",
        "targets = [title_to_idx[target] for _, target in edges]"
      ]
    },
    {
      "cell_type": "code",
      "execution_count": 6,
      "metadata": {
        "id": "pGEESgUNxu45"
      },
      "outputs": [],
      "source": [
        "num_nodes = len(node_info['name'].unique())\n",
        "x = torch.eye(num_nodes)\n",
        "edge_index = torch.tensor([sources, targets], dtype=torch.long)\n",
        "data = Data(x=x, edge_index=edge_index)"
      ]
    },
    {
      "cell_type": "code",
      "execution_count": 7,
      "metadata": {
        "id": "LcoWdBz20Ot5"
      },
      "outputs": [
        {
          "name": "stdout",
          "output_type": "stream",
          "text": [
            "5047\n"
          ]
        }
      ],
      "source": [
        "print(num_nodes)"
      ]
    },
    {
      "cell_type": "code",
      "execution_count": 8,
      "metadata": {
        "id": "Bv3JnFIbx5oF"
      },
      "outputs": [],
      "source": [
        "class GATModel(torch.nn.Module):\n",
        "    def __init__(self, num_features, hidden_channels, num_heads):\n",
        "        super(GATModel, self).__init__()\n",
        "        self.conv1 = GATConv(num_features, hidden_channels, num_heads)\n",
        "        self.conv2 = GATConv(hidden_channels * num_heads, hidden_channels, num_heads)\n",
        "\n",
        "    def forward(self, x, edge_index):\n",
        "        x = self.conv1(x, edge_index)\n",
        "        x = F.elu(x)\n",
        "        x = self.conv2(x, edge_index)\n",
        "        return x"
      ]
    },
    {
      "cell_type": "code",
      "execution_count": 9,
      "metadata": {
        "id": "ScRwpMOHx-Us"
      },
      "outputs": [],
      "source": [
        "model = GATModel(num_features=num_nodes, hidden_channels=64, num_heads=4)"
      ]
    },
    {
      "cell_type": "code",
      "execution_count": 10,
      "metadata": {
        "id": "NHGEee-UyCOI"
      },
      "outputs": [
        {
          "name": "stderr",
          "output_type": "stream",
          "text": [
            "c:\\Users\\mudla\\AppData\\Local\\Programs\\Python\\Python312\\Lib\\site-packages\\torch_geometric\\deprecation.py:26: UserWarning: 'data.DataLoader' is deprecated, use 'loader.DataLoader' instead\n",
            "  warnings.warn(out)\n"
          ]
        }
      ],
      "source": [
        "loader = DataLoader([data], batch_size=1)\n",
        "embeddings = model(data.x, data.edge_index)"
      ]
    },
    {
      "cell_type": "code",
      "execution_count": 11,
      "metadata": {
        "id": "wdpPuux60cvi"
      },
      "outputs": [
        {
          "name": "stdout",
          "output_type": "stream",
          "text": [
            "tensor([[-0.0043,  0.0002,  0.0002,  ...,  0.0023,  0.0079, -0.0090],\n",
            "        [ 0.0106, -0.0009,  0.0322,  ..., -0.0097,  0.0151, -0.0143],\n",
            "        [-0.0053, -0.0015,  0.0037,  ..., -0.0076,  0.0212,  0.0058],\n",
            "        ...,\n",
            "        [-0.0027, -0.0142, -0.0374,  ..., -0.0043, -0.0091, -0.0180],\n",
            "        [-0.0178,  0.0121,  0.0063,  ...,  0.0026, -0.0062,  0.0180],\n",
            "        [-0.0092,  0.0019, -0.0008,  ...,  0.0028, -0.0095,  0.0072]],\n",
            "       grad_fn=<AddBackward0>)\n"
          ]
        }
      ],
      "source": [
        "print(embeddings)"
      ]
    },
    {
      "cell_type": "code",
      "execution_count": 12,
      "metadata": {
        "id": "YFnEpbGX0mfn"
      },
      "outputs": [],
      "source": [
        "import pickle\n",
        "\n",
        "# Get the list of node IDs (assuming 'node_info' dataframe has a 'name' column)\n",
        "node_ids = node_info['name'].tolist()\n",
        "\n",
        "# Combine the embeddings and IDs into a dictionary\n",
        "embeddings_data = {'embeddings': embeddings.detach().numpy(), 'ids': node_ids}\n",
        "\n",
        "# Save the dictionary to a pickle file\n",
        "with open('node_embeddings.pkl', 'wb') as f:\n",
        "    pickle.dump(embeddings_data, f)"
      ]
    },
    {
      "cell_type": "code",
      "execution_count": null,
      "metadata": {
        "id": "OGi5KzKhPw5-"
      },
      "outputs": [],
      "source": []
    }
  ],
  "metadata": {
    "colab": {
      "provenance": []
    },
    "kernelspec": {
      "display_name": "Python 3",
      "name": "python3"
    },
    "language_info": {
      "codemirror_mode": {
        "name": "ipython",
        "version": 3
      },
      "file_extension": ".py",
      "mimetype": "text/x-python",
      "name": "python",
      "nbconvert_exporter": "python",
      "pygments_lexer": "ipython3",
      "version": "3.12.2"
    }
  },
  "nbformat": 4,
  "nbformat_minor": 0
}
